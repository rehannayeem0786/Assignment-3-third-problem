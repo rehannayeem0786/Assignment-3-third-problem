{
 "cells": [
  {
   "cell_type": "code",
   "execution_count": 1,
   "id": "fbded66c",
   "metadata": {},
   "outputs": [
    {
     "name": "stdout",
     "output_type": "stream",
     "text": [
      "Enter any string of your choice :- The quick Brow Fox\n",
      "No. of Upper case characters :- 3\n",
      "No. of Lower case characters :- 12\n"
     ]
    }
   ],
   "source": [
    "def counts_strings(strings):                        \n",
    "    d = {\"lower case\": 0 , \"upper case\": 0 }       \n",
    "    for chrs in strings:                \n",
    "        if chrs.islower():            \n",
    "            d[\"lower case\"] += 1                   \n",
    "        elif chrs.isupper():\n",
    "            d[\"upper case\"] += 1\n",
    "        else:\n",
    "            pass              \n",
    "    return d                   \n",
    "sample_strings = input(\"Enter any string of your choice :- \") \n",
    "chara = counts_strings(sample_strings)\n",
    "print(\"No. of Upper case characters :-\", chara[\"upper case\"])\n",
    "print(\"No. of Lower case characters :-\", chara[\"lower case\"])\n"
   ]
  },
  {
   "cell_type": "code",
   "execution_count": null,
   "id": "c18f3894",
   "metadata": {},
   "outputs": [],
   "source": []
  }
 ],
 "metadata": {
  "kernelspec": {
   "display_name": "Python 3 (ipykernel)",
   "language": "python",
   "name": "python3"
  },
  "language_info": {
   "codemirror_mode": {
    "name": "ipython",
    "version": 3
   },
   "file_extension": ".py",
   "mimetype": "text/x-python",
   "name": "python",
   "nbconvert_exporter": "python",
   "pygments_lexer": "ipython3",
   "version": "3.10.9"
  }
 },
 "nbformat": 4,
 "nbformat_minor": 5
}
